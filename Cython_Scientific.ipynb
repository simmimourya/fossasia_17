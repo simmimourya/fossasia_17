{
 "cells": [
  {
   "cell_type": "markdown",
   "metadata": {},
   "source": [
    "# Fossasia 2017, Simmi Mourya"
   ]
  },
  {
   "cell_type": "markdown",
   "metadata": {},
   "source": [
    "See github.com/simmimourya1/fossasia_17"
   ]
  },
  {
   "cell_type": "code",
   "execution_count": null,
   "metadata": {
    "collapsed": false
   },
   "outputs": [],
   "source": [
    "%load_ext cython"
   ]
  },
  {
   "cell_type": "code",
   "execution_count": null,
   "metadata": {
    "collapsed": false
   },
   "outputs": [],
   "source": [
    "import sys\n",
    "import Cython\n",
    "print(\"Python %d.%d.%d %s %s\" % sys.version_info)\n",
    "print(\"Cython %s\" % Cython.__version__)"
   ]
  },
  {
   "cell_type": "markdown",
   "metadata": {},
   "source": [
    "# Functions and Coercion"
   ]
  },
  {
   "cell_type": "code",
   "execution_count": null,
   "metadata": {
    "collapsed": false
   },
   "outputs": [],
   "source": [
    "%%cython\n",
    "\n",
    "def pyfunc(x):\n",
    "    return x + 1\n",
    "\n",
    "def cyfunc(int x):\n",
    "    return x + 1\n",
    "\n",
    "cdef int cfunc(int x):\n",
    "    return x + 1\n",
    "\n",
    "cpdef cypyfunc(int x):\n",
    "    y = cfunc(x + 1)\n",
    "    return y * 2"
   ]
  },
  {
   "cell_type": "code",
   "execution_count": null,
   "metadata": {
    "collapsed": false
   },
   "outputs": [],
   "source": [
    "pyfunc(2)"
   ]
  },
  {
   "cell_type": "code",
   "execution_count": null,
   "metadata": {
    "collapsed": false
   },
   "outputs": [],
   "source": [
    "cyfunc(2)"
   ]
  },
  {
   "cell_type": "code",
   "execution_count": null,
   "metadata": {
    "collapsed": false
   },
   "outputs": [],
   "source": [
    "cfunc(2)"
   ]
  },
  {
   "cell_type": "code",
   "execution_count": null,
   "metadata": {
    "collapsed": false
   },
   "outputs": [],
   "source": [
    "cypyfunc(2)"
   ]
  },
  {
   "cell_type": "markdown",
   "metadata": {},
   "source": [
    "# Static typing and type inference"
   ]
  },
  {
   "cell_type": "code",
   "execution_count": null,
   "metadata": {
    "collapsed": false
   },
   "outputs": [],
   "source": [
    "import math\n",
    "\n",
    "def sin(x):\n",
    "    return math.sin(x)"
   ]
  },
  {
   "cell_type": "code",
   "execution_count": null,
   "metadata": {
    "collapsed": false
   },
   "outputs": [],
   "source": [
    "%%cython -a\n",
    "cimport libc.math\n",
    "\n",
    "def sin(double x):\n",
    "    return libc.math.sin(x)"
   ]
  },
  {
   "cell_type": "code",
   "execution_count": null,
   "metadata": {
    "collapsed": false
   },
   "outputs": [],
   "source": [
    "%%cython -a\n",
    "def local_variables(x):\n",
    "    cdef int i = 5, ix = x\n",
    "    print(i * ix)\n",
    "    return (i + ix) // 2"
   ]
  },
  {
   "cell_type": "code",
   "execution_count": null,
   "metadata": {
    "collapsed": false
   },
   "outputs": [],
   "source": [
    "local_variables(2)"
   ]
  },
  {
   "cell_type": "markdown",
   "metadata": {},
   "source": [
    "## Python vs Cython"
   ]
  },
  {
   "cell_type": "code",
   "execution_count": null,
   "metadata": {
    "collapsed": false
   },
   "outputs": [],
   "source": [
    "import math\n",
    "\n",
    "def py_circular_distance(radius, lon1, lat1, lon2, lat2):\n",
    "    x = math.pi/180.0\n",
    "    a = (90.0-lat1) * x\n",
    "    b = (90.0-lat2) * x\n",
    "    theta = (lon2-lon1) * x\n",
    "    c = math.acos((math.cos(a)*math.cos(b)) + (math.sin(a)*math.sin(b)*math.cos(theta)))\n",
    "    return radius*c\n"
   ]
  },
  {
   "cell_type": "code",
   "execution_count": null,
   "metadata": {
    "collapsed": false
   },
   "outputs": [],
   "source": [
    "%%cython -a\n",
    "import math\n",
    "\n",
    "def cy_circular_distance(radius, lon1, lat1, lon2, lat2):\n",
    "    x = math.pi/180.0\n",
    "    a = (90.0-lat1) * x\n",
    "    b = (90.0-lat2) * x\n",
    "    theta = (lon2-lon1) * x\n",
    "    c = math.acos((math.cos(a)*math.cos(b)) + (math.sin(a)*math.sin(b)*math.cos(theta)))\n",
    "    return radius*c\n"
   ]
  },
  {
   "cell_type": "code",
   "execution_count": null,
   "metadata": {
    "collapsed": false
   },
   "outputs": [],
   "source": [
    "print(py_circular_distance(10, 1.2, 2, 2, 4.3))\n",
    "print(cy_circular_distance(10, 1.2, 2, 2, 4.3))"
   ]
  },
  {
   "cell_type": "code",
   "execution_count": null,
   "metadata": {
    "collapsed": false
   },
   "outputs": [],
   "source": [
    "%timeit py_circular_distance(10, 1.2, 2, 2, 4.3)"
   ]
  },
  {
   "cell_type": "code",
   "execution_count": null,
   "metadata": {
    "collapsed": false
   },
   "outputs": [],
   "source": [
    "%timeit cy_circular_distance(10, 1.2, 2, 2, 4.3)"
   ]
  },
  {
   "cell_type": "markdown",
   "metadata": {},
   "source": [
    "# Calling C functions"
   ]
  },
  {
   "cell_type": "code",
   "execution_count": null,
   "metadata": {
    "collapsed": false
   },
   "outputs": [],
   "source": [
    "%%cython -a\n",
    "# libc math functions\n",
    "from libc cimport math\n",
    "\n",
    "print( math.sin(math.M_PI / 2) )\n"
   ]
  },
  {
   "cell_type": "markdown",
   "metadata": {},
   "source": [
    "## Cython and Numpy"
   ]
  },
  {
   "cell_type": "code",
   "execution_count": null,
   "metadata": {
    "collapsed": true
   },
   "outputs": [],
   "source": [
    "%%cython\n",
    "import numpy as np\n",
    "\n",
    "def qm_cython_first_pass(double x0, int n):\n",
    "    cdef int t\n",
    "    x = np.zeros(n+1, float)\n",
    "    x[0] = x0\n",
    "    for t in range(n):\n",
    "        x[t+1] = 4.0 * x[t] * (1 - x[t])\n",
    "    return np.asarray(x)"
   ]
  },
  {
   "cell_type": "markdown",
   "metadata": {
    "collapsed": false
   },
   "source": [
    "*The problem of computing iterates and returning a time series requires us to work with arrays\n",
    "The natural array type to work with is NumPy arrays\n",
    "Here’s a Cython implemention that initializes, populates and returns a NumPy array*"
   ]
  },
  {
   "cell_type": "code",
   "execution_count": null,
   "metadata": {
    "collapsed": false
   },
   "outputs": [],
   "source": [
    "timeit qm_cython_first_pass(0.1, int(10**5))"
   ]
  },
  {
   "cell_type": "markdown",
   "metadata": {},
   "source": [
    "The reason is that working with NumPy arrays incurs substantial Python overheads. \n",
    "\n",
    "We can do better by using Cython’s typed memoryviews, which provide more direct access to arrays in memory.\n",
    "\n",
    "When using them, the first step is to create a NumPy array.\n",
    "\n",
    "Next, we declare a memoryview and bind it to the NumPy array.\n",
    "\n",
    "Here’s an example:"
   ]
  },
  {
   "cell_type": "code",
   "execution_count": null,
   "metadata": {
    "collapsed": true
   },
   "outputs": [],
   "source": [
    "%%cython\n",
    "import numpy as np\n",
    "from numpy cimport float_t\n",
    "\n",
    "def qm_cython(double x0, int n):\n",
    "    cdef int t\n",
    "    x_np_array = np.zeros(n+1, dtype=float)\n",
    "    cdef float_t [:] x = x_np_array\n",
    "    x[0] = x0\n",
    "    for t in range(n):\n",
    "        x[t+1] = 4.0 * x[t] * (1 - x[t])\n",
    "    return np.asarray(x)"
   ]
  },
  {
   "cell_type": "code",
   "execution_count": null,
   "metadata": {
    "collapsed": false
   },
   "outputs": [],
   "source": [
    "timeit qm_cython(0.1, int(10**5))"
   ]
  },
  {
   "cell_type": "markdown",
   "metadata": {},
   "source": [
    "Here\n",
    "\n",
    "cimport pulls in some compile-time information from NumPy\n",
    "\n",
    "cdef float_t [:] x = x_np_array creates a memoryview on the NumPy array x_np_array\n",
    "\n",
    "the return statement uses np.asarray(x) to convert the memoryview back to a NumPy array"
   ]
  },
  {
   "cell_type": "code",
   "execution_count": null,
   "metadata": {
    "collapsed": false
   },
   "outputs": [],
   "source": [
    "%%cython\n",
    "from cython.view cimport array as cvarray\n",
    "import numpy as np\n",
    "\n",
    "# Memoryview on a NumPy array\n",
    "narr = np.arange(27, dtype=np.dtype(\"i\")).reshape((3, 3, 3))\n",
    "cdef int [:, :, :] narr_view = narr\n",
    "\n",
    "# Memoryview on a C array\n",
    "cdef int carr[3][3][3]\n",
    "cdef int [:, :, :] carr_view = carr\n",
    "\n",
    "# Memoryview on a Cython array\n",
    "cyarr = cvarray(shape=(3, 3, 3), itemsize=sizeof(int), format=\"i\")\n",
    "cdef int [:, :, :] cyarr_view = cyarr\n",
    "\n",
    "# Show the sum of all the arrays before altering it\n",
    "print(\"NumPy sum of the NumPy array before assignments: %s\" % narr.sum())\n",
    "\n",
    "# We can copy the values from one memoryview into another using a single\n",
    "# statement, by either indexing with ... or (NumPy-style) with a colon.\n",
    "carr_view[...] = narr_view\n",
    "cyarr_view[:] = narr_view\n",
    "# NumPy-style syntax for assigning a single value to all elements.\n",
    "narr_view[:, :, :] = 3\n",
    "\n",
    "# Just to distinguish the arrays\n",
    "carr_view[0, 0, 0] = 100\n",
    "cyarr_view[0, 0, 0] = 1000\n",
    "\n",
    "# Assigning into the memoryview on the NumPy array alters the latter\n",
    "print(\"NumPy sum of NumPy array after assignments: %s\" % narr.sum())\n"
   ]
  }
 ],
 "metadata": {
  "kernelspec": {
   "display_name": "Python 3",
   "language": "python",
   "name": "python3"
  },
  "language_info": {
   "codemirror_mode": {
    "name": "ipython",
    "version": 3
   },
   "file_extension": ".py",
   "mimetype": "text/x-python",
   "name": "python",
   "nbconvert_exporter": "python",
   "pygments_lexer": "ipython3",
   "version": "3.6.0"
  }
 },
 "nbformat": 4,
 "nbformat_minor": 0
}
